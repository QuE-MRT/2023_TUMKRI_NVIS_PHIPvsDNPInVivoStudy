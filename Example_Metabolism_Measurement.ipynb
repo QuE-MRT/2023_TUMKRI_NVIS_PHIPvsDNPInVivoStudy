{
 "cells": [
  {
   "cell_type": "markdown",
   "id": "63ee3c0a-b525-4362-acb7-43adb3d9baf1",
   "metadata": {},
   "source": [
    "## Analysis of an exemplary animal\n",
    "3D bSSFP tumor metabolism\n"
   ]
  },
  {
   "cell_type": "code",
   "execution_count": null,
   "id": "256ba6f2-1ed3-4dbf-acaa-f1c8292d6445",
   "metadata": {
    "tags": []
   },
   "outputs": [],
   "source": [
    "import numpy as np\n",
    "\n",
    "import matplotlib.pyplot as plt\n",
    "import pandas as pd\n",
    "\n",
    "%matplotlib widget\n",
    "import ipywidgets as widgets\n",
    "\n",
    "import datetime\n",
    "\n",
    "import os\n",
    "\n",
    "import hypermri\n",
    "import hypermri.utils.utils_anatomical as ut_anat\n",
    "\n",
    "import sys\n",
    "%load_ext autoreload\n",
    "%autoreload 2"
   ]
  },
  {
   "cell_type": "markdown",
   "id": "abb853b1-ab77-4d18-805c-5f9695ee72d1",
   "metadata": {},
   "source": [
    "### Load data\n",
    "define path and name animal"
   ]
  },
  {
   "cell_type": "code",
   "execution_count": null,
   "id": "bf72d9ec-050c-4ce3-b191-0c0e95beb830",
   "metadata": {
    "tags": []
   },
   "outputs": [],
   "source": [
    "# define scan path\n",
    "dirpath = 'Test_Data/metabolism_test_data/'\n",
    "scans = hypermri.BrukerDir(dirpath)"
   ]
  },
  {
   "cell_type": "code",
   "execution_count": null,
   "id": "7bd54ae8-310b-4ff0-9840-e676b2e83117",
   "metadata": {
    "tags": []
   },
   "outputs": [],
   "source": [
    "# load phantom data:\n",
    "phantom_bssfp = scans[17]\n",
    "# complex seq2d:\n",
    "phantom_bssfp_img = phantom_bssfp.Load_2dseq_file(recon_num=1)\n",
    "\n",
    "# load PHIP data:\n",
    "phip_bssfp = scans[18]\n",
    "# complex seq2d:\n",
    "phip_bssfp_img = phip_bssfp.Load_2dseq_file(recon_num=1)\n",
    "\n",
    "# load DNP data:\n",
    "dnp_bssfp = scans[24]\n",
    "# complex seq2d:\n",
    "dnp_bssfp_img = dnp_bssfp.Load_2dseq_file(recon_num=1)\n",
    "\n",
    "# load anatomical images:\n",
    "coronal = scans[22]\n",
    "axial = scans[21]\n",
    "\n",
    "print(\"shape of seq2d = \" + str(dnp_bssfp.seq2d.shape))\n",
    "print(\"dnp_bssfp_img = \" + str(dnp_bssfp_img.shape))"
   ]
  },
  {
   "cell_type": "markdown",
   "id": "e2a031dc-4fd3-4e4b-923a-392ca9e71f56",
   "metadata": {},
   "source": [
    "#### DNP ####"
   ]
  },
  {
   "cell_type": "code",
   "execution_count": null,
   "id": "cf65ebbb-ea10-4692-91f3-b24d3cb89b6a",
   "metadata": {
    "tags": []
   },
   "outputs": [],
   "source": [
    "# reshape data to match the conventional order :\n",
    "# echo - read - slice - phase - reptitions - channels\n",
    "_, dnp_bssfp_pv_reco = dnp_bssfp.reconstruction(seq2d = np.squeeze(dnp_bssfp_img))\n",
    "\n",
    "print(\"shape of dnp_bssfp_pv_reco = \" + str(dnp_bssfp_pv_reco.shape))\n",
    "\n",
    "# reorient the data so that axial and coronal match the orienatiotn of the bSSFP data:\n",
    "[_, dnp_bssfp_pv_reco, axial.seq2d, _, coronal.seq2d] = dnp_bssfp.reorient_reco(\n",
    "    bssfp_seq2d=dnp_bssfp_pv_reco,\n",
    "    anatomical_seq2d_ax=axial.seq2d,\n",
    "    anatomical_seq2d_cor=coronal.seq2d)\n",
    "\n",
    "print(\"shape of dnp_bssfp_pv_reco = \" + str(dnp_bssfp_pv_reco.shape))"
   ]
  },
  {
   "cell_type": "markdown",
   "id": "33f751d5-fa71-4223-8916-214dd4f6ca68",
   "metadata": {},
   "source": [
    "##### DNP - Combine multi-channel data:\n",
    "Combines multichannel data. The phase of both channels is found by finding the phase that maximizes the sum of both channels."
   ]
  },
  {
   "cell_type": "code",
   "execution_count": null,
   "id": "27cfd063-27ef-4616-9a5a-7545d973dc4c",
   "metadata": {
    "tags": []
   },
   "outputs": [],
   "source": [
    "# combine multichannel data:\n",
    "try:\n",
    "    dnp_bssfp_pv_reco_combined = dnp_bssfp.combine_multichannel(input_data=dnp_bssfp_pv_reco)\n",
    "    print(\"shape of dnp_bssfp_pv_reco_combined = \" + str(dnp_bssfp_pv_reco_combined.shape))\n",
    "except:\n",
    "    dnp_bssfp_pv_reco_combined = dnp_bssfp_pv_reco"
   ]
  },
  {
   "cell_type": "markdown",
   "id": "38354b76-09aa-46fa-a162-683fb6e9e908",
   "metadata": {
    "tags": []
   },
   "source": [
    "##### DNP - Shift the bSSFP data by subvoxels to match anatomical images:"
   ]
  },
  {
   "cell_type": "code",
   "execution_count": null,
   "id": "86998237-8615-4c31-b2b4-5fdcb627ab9b",
   "metadata": {
    "tags": []
   },
   "outputs": [],
   "source": [
    "# shift bssfp data\n",
    "dnp_bssfp_pv_reco_combined_shift = dnp_bssfp.shift_bssfp(input_data=dnp_bssfp_pv_reco_combined, # complex, reordered bSSFP data\n",
    "                                 mat_bssfp=dnp_bssfp_pv_reco_combined.shape[2:4],                       # bssfp \"axial\" matrix size (phase and slice dim)\n",
    "                                 mat_anat=axial.seq2d.shape[1:3],                                               # axial matrix size (phase and slice dim)\n",
    "                                 fov_bssfp=dnp_bssfp.method['PVM_Fov'][1:3],                                    # bSSFP \"axial\" FOV (can be left out if bssfp and axial have same FOV)\n",
    "                                 fov_anat=axial.method['PVM_Fov'],                                              # anatomical \"axial\" FOV (can be left out if bssfp and axial have same FOV)\n",
    "                                 apply_fft=False,use_scipy_shift=True)                                                                # has to be true if bSSFP data is in image space (=False if bSSFP data is in k-space)\n",
    "print(\"shape of dnp_bssfp_pv_reco_combined_shift = \" + \n",
    "      str(dnp_bssfp_pv_reco_combined_shift.shape))"
   ]
  },
  {
   "cell_type": "markdown",
   "id": "6ec683f6-b8b1-4386-acd1-993ca1afcc16",
   "metadata": {},
   "source": [
    "#### PHIP"
   ]
  },
  {
   "cell_type": "code",
   "execution_count": null,
   "id": "7a9352f9-ba62-4263-8810-4a15131c70d3",
   "metadata": {
    "tags": []
   },
   "outputs": [],
   "source": [
    "_, phip_bssfp_pv_reco = phip_bssfp.reconstruction(seq2d = np.squeeze(phip_bssfp_img))\n",
    "\n",
    "# reorient the data so that axial and coronal match the orienatiotn of the bSSFP data:\n",
    "[_, phip_bssfp_pv_reco,anatomical_ax, anatomical_sag, anatomical_cor] = phip_bssfp.reorient_reco(\n",
    "    bssfp_seq2d=phip_bssfp_pv_reco,\n",
    "    anatomical_seq2d_ax=axial.seq2d,\n",
    "    anatomical_seq2d_cor=coronal.seq2d)"
   ]
  },
  {
   "cell_type": "markdown",
   "id": "741bd199-d76e-4f52-aa9d-af7cbe386e13",
   "metadata": {},
   "source": [
    "##### PHIP - Combine multi-channel data:"
   ]
  },
  {
   "cell_type": "code",
   "execution_count": null,
   "id": "a1fc103e-1e02-4940-97fa-9348d869605b",
   "metadata": {
    "tags": []
   },
   "outputs": [],
   "source": [
    "# combine multichannel data:\n",
    "try:\n",
    "    phip_bssfp_pv_reco_combined = phip_bssfp.combine_multichannel(input_data=phip_bssfp_pv_reco)\n",
    "except:\n",
    "    phip_bssfp_pv_reco_combined = phip_bssfp_pv_reco"
   ]
  },
  {
   "cell_type": "markdown",
   "id": "422f8d92-fca8-4c1e-9bbd-dcf250e19c9e",
   "metadata": {},
   "source": [
    "##### PHIP  - Shift the bSSFP data by subvoxels to match anatomical images:"
   ]
  },
  {
   "cell_type": "code",
   "execution_count": null,
   "id": "96633819-6bcc-4c6f-ae71-9cea831b5470",
   "metadata": {
    "tags": []
   },
   "outputs": [],
   "source": [
    "phip_bssfp_pv_reco_combined_shift = phip_bssfp.shift_bssfp(input_data=phip_bssfp_pv_reco_combined,\n",
    "                                 mat_bssfp=phip_bssfp_pv_reco_combined.shape[2:4],\n",
    "                                 mat_anat=axial.seq2d.shape[1:3],\n",
    "                                 fov_bssfp=phip_bssfp.method['PVM_Fov'][1:3],\n",
    "                                 fov_anat=axial.method['PVM_Fov'],\n",
    "                                 apply_fft=False,use_scipy_shift=True) "
   ]
  },
  {
   "cell_type": "code",
   "execution_count": null,
   "id": "a8e2ca09-126a-471d-981f-ff17c344d9dd",
   "metadata": {},
   "outputs": [],
   "source": [
    "fig, (ax1, ax2, ax3) = plt.subplots(1, 3, tight_layout=True, figsize=(12,5))\n",
    "\n",
    "dnp_bssfp.plot3D_new2(bssfp_data=dnp_bssfp_pv_reco_combined_shift, # complex bSSFP data\n",
    "                      coronal_image=coronal, # coronal mutlislice image object \n",
    "                      axial_image=axial,     # axial mutlislice image object\n",
    "                      axlist=[ax1, ax2, ax3], # pass axes that the function will plot o\n",
    "                      plot_params=None, # if you want to recreate plot, pass the json file name dnp_bssfp.load_plot_params(path_to_params=\"figures_shifted/fig_name.json\")\n",
    "                      fig=fig) # if you want a colorbar, this is necessary"
   ]
  },
  {
   "cell_type": "markdown",
   "id": "496c9b10-d92d-458d-9083-26a698314dd3",
   "metadata": {},
   "source": [
    "## Interpolation of bssfp to anatomical resolution\n",
    "To segment the datasets properly, they are interpolated to match the anatomical coronal resoltuion. To avoid interpolation artifacts, the interpolation method is set to \"nearest\" which means that no data is generated\n"
   ]
  },
  {
   "cell_type": "code",
   "execution_count": null,
   "id": "2561c32a",
   "metadata": {
    "tags": []
   },
   "outputs": [],
   "source": [
    "import time\n",
    "\n",
    "# Interpolate DNP Data\n",
    "start_time = time.time()\n",
    "\n",
    "dnp_bssfp_itp = dnp_bssfp.interpolate_bssfp(bssfp_data=dnp_bssfp_pv_reco_combined_shift,\n",
    "                            interp_size=(1,                              # echoes\n",
    "                                         round(coronal.seq2d.shape[0]), # anatomical \n",
    "                                         round(coronal.seq2d.shape[1]), # anatomical\n",
    "                                         coronal.seq2d.shape[2],        # slices \n",
    "                                         dnp_bssfp_pv_reco_combined_shift.shape[4],     # repetitions\n",
    "                                         1),                             # channels\n",
    "                            interp_method=\"nearest\",                     # interpolation method\n",
    "                            use_multiprocessing=True,                    # uses multiple cores\n",
    "                            number_of_cpu_cores=None)                    # if =None and use_multiprocessing=True, automatically calcuates the nuber of CPU cores\n",
    "\n",
    "print(\"--- %s seconds ---\" % (time.time() - start_time))\n",
    "\n",
    "# Interpolate PHIP Data\n",
    "start_time = time.time()\n",
    "\n",
    "phip_bssfp_itp = phip_bssfp.interpolate_bssfp(bssfp_data=phip_bssfp_pv_reco_combined_shift,\n",
    "                            interp_size=(1,\n",
    "                                         round(coronal.seq2d.shape[0]),\n",
    "                                         round(coronal.seq2d.shape[1]),\n",
    "                                         coronal.seq2d.shape[2],\n",
    "                                         phip_bssfp_pv_reco_combined_shift.shape[4],\n",
    "                                         1),\n",
    "                            interp_method=\"nearest\",\n",
    "                            use_multiprocessing=True)\n",
    "print(\"--- %s seconds ---\" % (time.time() - start_time))"
   ]
  },
  {
   "cell_type": "markdown",
   "id": "38fec2b4-4487-462c-8d2e-bbf70de65afb",
   "metadata": {},
   "source": [
    "## We make a list of anatomical images to be segmented \n",
    "Define the ROI names that will be segmented.\n"
   ]
  },
  {
   "cell_type": "code",
   "execution_count": null,
   "id": "f514a8a8-1d2e-4244-a6fa-0e7c7ef4d74d",
   "metadata": {
    "tags": []
   },
   "outputs": [],
   "source": [
    "roi_names = ['bloodvessel', 'tumor', 'kidneyL','kidneyR', 'muscle','phantom', 'outside_ref','ROI1','ROI2','ROI3']"
   ]
  },
  {
   "cell_type": "markdown",
   "id": "0ec9be63-c437-42c8-bfe8-29a380713616",
   "metadata": {},
   "source": [
    "#### Segment the interesting anatomical ROIs"
   ]
  },
  {
   "cell_type": "markdown",
   "id": "93b90e1d-15f7-47a9-90b6-b8080207d290",
   "metadata": {},
   "source": [
    "init list of segmenter objects"
   ]
  },
  {
   "cell_type": "code",
   "execution_count": null,
   "id": "4141d2c9-f219-4849-aade-48c941f5c859",
   "metadata": {
    "tags": []
   },
   "outputs": [],
   "source": [
    "segmenter_list = ut_anat.get_segmenter_list_overlayed(coronal.seq2d,\n",
    "                                                       np.abs(phip_bssfp_itp),\n",
    "                                                      n_rois=len(roi_names),\n",
    "                                                       figsize=(6,6),\n",
    "                                                      overlay=0.2,\n",
    "                                                     bssfp_cmap='magma')"
   ]
  },
  {
   "cell_type": "markdown",
   "id": "701e6e79-811c-4bfc-86fd-11ae4602e50c",
   "metadata": {},
   "source": [
    "Draw ROIs onto the coronal anatomical images. If you misdraw you can tick the Erasing box to remove your mistakes"
   ]
  },
  {
   "cell_type": "code",
   "execution_count": null,
   "id": "1f13dc63-fab9-4da9-85bb-9c211ac069f5",
   "metadata": {
    "tags": []
   },
   "outputs": [],
   "source": [
    "ut_anat.draw_masks_on_anatomical(segmenter_list,roi_names)"
   ]
  },
  {
   "cell_type": "markdown",
   "id": "3d6bf3a1-f19a-4a03-997d-4b961df09663",
   "metadata": {},
   "source": [
    "#### Retrieve and save masks"
   ]
  },
  {
   "cell_type": "code",
   "execution_count": null,
   "id": "4c4ebd82-f32d-4e45-bc92-46c39b74a4d1",
   "metadata": {
    "tags": []
   },
   "outputs": [],
   "source": [
    "mask_dict = ut_anat.get_masks(segmenter_list,roi_keys=roi_names,plot_res=True)"
   ]
  },
  {
   "cell_type": "markdown",
   "id": "00351912-999f-48ca-8dc8-770f3e602cf7",
   "metadata": {},
   "source": [
    "#### Get the signal from the ROIs:"
   ]
  },
  {
   "cell_type": "markdown",
   "id": "ec6a14cc-111f-4144-8c8e-c56188c4866c",
   "metadata": {},
   "source": [
    "###### Split data into pyruvate and lactate"
   ]
  },
  {
   "cell_type": "code",
   "execution_count": null,
   "id": "62e5575a-4583-4acc-8ca2-429671146431",
   "metadata": {
    "tags": []
   },
   "outputs": [],
   "source": [
    "[dnp_bssfp_itp_pyr, dnp_bssfp_itp_lac] = dnp_bssfp.split_into_pyr_lac(input_data=dnp_bssfp_itp,\n",
    "                                                                      pyr_ind=0)\n",
    "\n",
    "[phip_bssfp_itp_pyr, phip_bssfp_itp_lac] = phip_bssfp.split_into_pyr_lac(input_data=phip_bssfp_itp,\n",
    "                                                                         pyr_ind=0)"
   ]
  },
  {
   "cell_type": "markdown",
   "id": "3ce7ce79-b360-4e4d-a923-4185b050e047",
   "metadata": {},
   "source": [
    "# Mask data first and then integrate"
   ]
  },
  {
   "cell_type": "code",
   "execution_count": null,
   "id": "276339b6-d32e-4812-9507-6610e97e3684",
   "metadata": {
    "tags": []
   },
   "outputs": [],
   "source": [
    "# init empty dictionaries\n",
    "dnp_signal_pyr = {}\n",
    "dnp_signal_lac = {}\n",
    "\n",
    "phip_signal_pyr = {}\n",
    "phip_signal_lac = {}\n",
    "\n",
    "# calculate time curves of ROIs\n",
    "for k in mask_dict:\n",
    "    print(k)\n",
    "    dnp_signal_pyr[k] =  dnp_bssfp.roi_signal_curve(input_data=np.abs(dnp_bssfp_itp_pyr),\n",
    "                                                    mask_dict=mask_dict,\n",
    "                                                    mask_key=k)\n",
    "    \n",
    "    dnp_signal_lac[k] =  dnp_bssfp.roi_signal_curve(input_data=np.abs(dnp_bssfp_itp_lac),\n",
    "                                                    mask_dict=mask_dict,\n",
    "                                                    mask_key=k)\n",
    "    \n",
    "    phip_signal_pyr[k] =  phip_bssfp.roi_signal_curve(input_data=np.abs(phip_bssfp_itp_pyr),\n",
    "                                                     mask_dict=mask_dict,\n",
    "                                                     mask_key=k)\n",
    "    phip_signal_lac[k] =  phip_bssfp.roi_signal_curve(input_data=np.abs(phip_bssfp_itp_lac),\n",
    "                                                     mask_dict=mask_dict,\n",
    "                                                     mask_key=k)"
   ]
  },
  {
   "cell_type": "markdown",
   "id": "3c1ec5ff-4320-41ed-81f3-4b2540406416",
   "metadata": {},
   "source": [
    "##### DNP - Plot signal time curves from ROIs"
   ]
  },
  {
   "cell_type": "code",
   "execution_count": null,
   "id": "b03d7459-bd03-4d70-9ea3-8f0579f8dffc",
   "metadata": {
    "tags": []
   },
   "outputs": [],
   "source": [
    "# get time axis:\n",
    "time_axis = dnp_bssfp.calc_timeaxis()\n",
    "# Define pyruvate index (0 if you started the acquisition on the pyruvate channel)\n",
    "pyr_ind = 0\n",
    "plt.close()\n",
    "plt.figure(figsize = (12,8),tight_layout=True)\n",
    "# loop through tickers and axes\n",
    "for n, k in enumerate(mask_dict.keys()):\n",
    "    # filter df for ticker and plot on specified axes\n",
    "    ax = plt.subplot(3, 4, n + 1)\n",
    "    # plot results:\n",
    "    ax.plot(time_axis[pyr_ind::2],np.abs(dnp_signal_pyr[k]),label='Pyruvate')\n",
    "    ax.plot(time_axis[pyr_ind+1::2],np.abs(dnp_signal_lac[k]),label='Lactate')\n",
    "    # chart formatting\n",
    "    ax.set_xlabel(\"\")\n",
    "    ax.legend()\n",
    "    ax.set_title(k)\n"
   ]
  },
  {
   "cell_type": "markdown",
   "id": "8a9fa5ca-98ac-4dbb-9f2f-a91262e75ee7",
   "metadata": {},
   "source": [
    "##### PHIP - Plot signal time curves from ROIs"
   ]
  },
  {
   "cell_type": "code",
   "execution_count": null,
   "id": "362c8a52-7814-48e9-ae5e-2f11d84614ec",
   "metadata": {
    "tags": []
   },
   "outputs": [],
   "source": [
    "# get time axis:\n",
    "time_axis = phip_bssfp.calc_timeaxis()\n",
    "# Define pyruvate index (0 if you started the acquisition on the pyruvate channel)\n",
    "pyr_ind = 0\n",
    "\n",
    "plt.figure(figsize = (12,8),tight_layout=True)\n",
    "# loop through tickers and axes\n",
    "for n, k in enumerate(mask_dict.keys()):\n",
    "\n",
    "    # filter df for ticker and plot on specified axes\n",
    "    ax = plt.subplot(3, 4, n + 1)\n",
    "    # plot results:\n",
    "    x = time_axis[pyr_ind::2]\n",
    "    y = np.abs(phip_signal_pyr[k])\n",
    "    \n",
    "    \n",
    "    ax.plot(time_axis[pyr_ind::2],np.abs(phip_signal_pyr[k]),label='Pyruvate')\n",
    "    ax.plot(time_axis[pyr_ind+1::2],np.abs(phip_signal_lac[k]),label='Lactate')\n",
    "    \n",
    "    # chart formatting\n",
    "    ax.set_xlabel(\"\")\n",
    "    ax.legend()\n",
    "    ax.set_title(k)    \n"
   ]
  },
  {
   "cell_type": "markdown",
   "id": "cf61d7e3-59f8-4266-a8bb-337d856f5505",
   "metadata": {},
   "source": [
    "#### DNP Check AUC + AUC Ratios from segmented ROIs\n",
    "#### change the key string and then analyze the data"
   ]
  },
  {
   "cell_type": "code",
   "execution_count": null,
   "id": "8c64abe7-46b0-487d-bb6f-1f055de65962",
   "metadata": {
    "tags": []
   },
   "outputs": [],
   "source": [
    "print(dnp_signal_pyr.keys())"
   ]
  },
  {
   "cell_type": "code",
   "execution_count": null,
   "id": "cc34671d-c27c-42f4-81cd-87a8e7701d14",
   "metadata": {
    "tags": []
   },
   "outputs": [],
   "source": [
    "fig, (ax1, ax2, ax3, ax4) = plt.subplots(1, 4,tight_layout=True, figsize=(12,4))\n",
    "roi_key = \"tumor\"\n",
    "dnp_bssfp.calc_AUC(signal=(np.abs(dnp_signal_pyr[roi_key]),\n",
    "                           np.abs(dnp_signal_lac[roi_key])),\n",
    "                           axlist = [ax1, ax2, ax3, ax4],\n",
    "                           mask_key=roi_key,\n",
    "                          signal_range_input=[16,89],\n",
    "                          noise_range_input=[92,124],\n",
    "                          noise_signal=np.abs(dnp_signal_pyr['outside_ref']),\n",
    "                          apply_filter=True)\n"
   ]
  },
  {
   "cell_type": "markdown",
   "id": "b745c5b0-fec6-45b0-a7c6-0c074a60c3fc",
   "metadata": {
    "tags": []
   },
   "source": [
    "#### PHIP Check AUC + AUC Ratios from segmented ROIs"
   ]
  },
  {
   "cell_type": "code",
   "execution_count": null,
   "id": "de3f78c7-8f52-4b03-b5f6-8aba8a4fe23d",
   "metadata": {
    "tags": []
   },
   "outputs": [],
   "source": [
    "fig, (ax1, ax2, ax3, ax4) = plt.subplots(1, 4,tight_layout=True, figsize=(12,4))\n",
    "roi_key = \"tumor\"\n",
    "phip_bssfp.calc_AUC(signal=(np.abs(phip_signal_pyr[roi_key]),\n",
    "                            np.abs(phip_signal_lac[roi_key])),\n",
    "                        axlist = [ax1, ax2, ax3, ax4],\n",
    "                        mask_key=roi_key,\n",
    "                        signal_range_input=[7,74],\n",
    "                        noise_range_input=[75,124],\n",
    "                        noise_signal=np.abs(phip_signal_pyr['outside_ref']),\n",
    "                        apply_filter=True,\n",
    "                        display_ui=True)\n"
   ]
  }
 ],
 "metadata": {
  "kernelspec": {
   "display_name": "Python 3 (ipykernel)",
   "language": "python",
   "name": "python3"
  },
  "language_info": {
   "codemirror_mode": {
    "name": "ipython",
    "version": 3
   },
   "file_extension": ".py",
   "mimetype": "text/x-python",
   "name": "python",
   "nbconvert_exporter": "python",
   "pygments_lexer": "ipython3",
   "version": "3.10.10"
  }
 },
 "nbformat": 4,
 "nbformat_minor": 5
}
