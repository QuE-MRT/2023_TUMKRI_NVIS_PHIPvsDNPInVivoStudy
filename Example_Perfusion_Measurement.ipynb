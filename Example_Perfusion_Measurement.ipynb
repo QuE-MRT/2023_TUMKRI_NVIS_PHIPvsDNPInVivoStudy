{
 "cells": [
  {
   "cell_type": "markdown",
   "id": "63ee3c0a-b525-4362-acb7-43adb3d9baf1",
   "metadata": {},
   "source": [
    "## Analysis of an exemplary dataset\n",
    "* 3D bSSFP healthy perfusion"
   ]
  },
  {
   "cell_type": "code",
   "execution_count": null,
   "id": "256ba6f2-1ed3-4dbf-acaa-f1c8292d6445",
   "metadata": {
    "tags": []
   },
   "outputs": [],
   "source": [
    "import numpy as np\n",
    "\n",
    "import matplotlib.pyplot as plt\n",
    "import pandas as pd\n",
    "\n",
    "%matplotlib widget\n",
    "import ipywidgets as widgets\n",
    "\n",
    "import datetime\n",
    "\n",
    "import os\n",
    "\n",
    "import hypermri\n",
    "import hypermri.utils.utils_anatomical as ut_anat\n",
    "\n",
    "import sys\n",
    "%load_ext autoreload\n",
    "%autoreload 2"
   ]
  },
  {
   "cell_type": "markdown",
   "id": "abb853b1-ab77-4d18-805c-5f9695ee72d1",
   "metadata": {},
   "source": [
    "### Load data\n",
    "define path and name animal"
   ]
  },
  {
   "cell_type": "code",
   "execution_count": null,
   "id": "bf72d9ec-050c-4ce3-b191-0c0e95beb830",
   "metadata": {
    "tags": []
   },
   "outputs": [],
   "source": [
    "# define scan path\n",
    "dirpath = 'Test_Data/perfusion_test_data/'\n",
    "scans = hypermri.BrukerDir(dirpath)"
   ]
  },
  {
   "cell_type": "code",
   "execution_count": null,
   "id": "7bd54ae8-310b-4ff0-9840-e676b2e83117",
   "metadata": {
    "tags": []
   },
   "outputs": [],
   "source": [
    "#load PHIP data:\n",
    "phip_bssfp = scans[17]\n",
    "# complex seq2d:\n",
    "phip_bssfp_img = phip_bssfp.Load_2dseq_file(recon_num=1)\n",
    "\n",
    "# load DNP data:\n",
    "dnp_bssfp = scans[19]\n",
    "# complex seq2d:\n",
    "dnp_bssfp_img = dnp_bssfp.Load_2dseq_file(recon_num=1)\n",
    "\n",
    "# load anatomical images:\n",
    "coronal = scans[18]\n",
    "axial = scans[10]\n",
    "\n",
    "print(\"shape of seq2d = \" + str(dnp_bssfp.seq2d.shape))\n",
    "print(\"dnp_bssfp_img = \" + str(dnp_bssfp_img.shape))"
   ]
  },
  {
   "cell_type": "markdown",
   "id": "e2a031dc-4fd3-4e4b-923a-392ca9e71f56",
   "metadata": {},
   "source": [
    "#### DNP ####"
   ]
  },
  {
   "cell_type": "code",
   "execution_count": null,
   "id": "c6db698d-d3b5-43b1-9142-3cdea82a5c3f",
   "metadata": {
    "tags": []
   },
   "outputs": [],
   "source": [
    "_, dnp_bssfp_pv_reco = dnp_bssfp.reconstruction(seq2d = dnp_bssfp.seq2d)\n",
    "\n",
    "print(\"shape of dnp_bssfp_pv_reco = \" + str(dnp_bssfp_pv_reco.shape))\n",
    "\n",
    "# reorient the data so that axial and coronal match the orienatiotn of the bSSFP data:\n",
    "[_, dnp_bssfp_pv_reco, axial.seq2d, _, coronal.seq2d] = dnp_bssfp.reorient_reco(\n",
    "        bssfp_custom=dnp_bssfp.Reconstructed_data,    # custom reco data\n",
    "        bssfp_seq2d=dnp_bssfp_pv_reco,                # paravision reconstructed data (seq2d)\n",
    "        anatomical_seq2d_ax=axial.seq2d,              # axial seq2d \n",
    "        anatomical_seq2d_cor=coronal.seq2d)           # coronal seq2d\n",
    "\n",
    "print(\"shape of dnp_bssfp_pv_reco = \" + str(dnp_bssfp_pv_reco.shape))"
   ]
  },
  {
   "cell_type": "code",
   "execution_count": null,
   "id": "86998237-8615-4c31-b2b4-5fdcb627ab9b",
   "metadata": {
    "tags": []
   },
   "outputs": [],
   "source": [
    "# shift bssfp data\n",
    "dnp_bssfp_pv_reco_combined_shift = dnp_bssfp.shift_bssfp(input_data=dnp_bssfp_pv_reco, # complex, reordered bSSFP data\n",
    "                                 mat_bssfp=dnp_bssfp_pv_reco.shape[2:4],                       # bssfp \"axial\" matrix size (phase and slice dim)\n",
    "                                 mat_anat=axial.seq2d.shape[1:3],                                               # axial matrix size (phase and slice dim)\n",
    "                                 fov_bssfp=dnp_bssfp.method['PVM_Fov'][1:3],                                    # bSSFP \"axial\" FOV (can be left out if bssfp and axial have same FOV)\n",
    "                                 fov_anat=axial.method['PVM_Fov'],                                              # anatomical \"axial\" FOV (can be left out if bssfp and axial have same FOV)\n",
    "                                 apply_fft=False,\n",
    "                                                                use_scipy_shift=True)                                                                # has to be true if bSSFP data is in image space (=False if bSSFP data is in k-space)\n",
    "print(\"shape of dnp_bssfp_pv_reco_combined_shift = \" + \n",
    "      str(dnp_bssfp_pv_reco_combined_shift.shape))"
   ]
  },
  {
   "cell_type": "markdown",
   "id": "6ec683f6-b8b1-4386-acd1-993ca1afcc16",
   "metadata": {},
   "source": [
    "#### PHIP"
   ]
  },
  {
   "cell_type": "code",
   "execution_count": null,
   "id": "7a9352f9-ba62-4263-8810-4a15131c70d3",
   "metadata": {
    "tags": []
   },
   "outputs": [],
   "source": [
    "_, phip_bssfp_pv_reco = phip_bssfp.reconstruction(seq2d = np.squeeze(phip_bssfp_img))\n",
    "\n",
    "# reorient the data so that axial and coronal match the orienatiotn of the bSSFP data:\n",
    "[_, phip_bssfp_pv_reco,anatomical_ax, anatomical_sag, anatomical_cor] = phip_bssfp.reorient_reco(\n",
    "    bssfp_custom=phip_bssfp.Reconstructed_data,\n",
    "    bssfp_seq2d=phip_bssfp_pv_reco,\n",
    "    anatomical_seq2d_ax=axial.seq2d,\n",
    "    anatomical_seq2d_cor=coronal.seq2d)"
   ]
  },
  {
   "cell_type": "markdown",
   "id": "422f8d92-fca8-4c1e-9bbd-dcf250e19c9e",
   "metadata": {},
   "source": [
    "##### PHIP  - Shift the bSSFP data by subvoxels to match anatomical images:"
   ]
  },
  {
   "cell_type": "code",
   "execution_count": null,
   "id": "96633819-6bcc-4c6f-ae71-9cea831b5470",
   "metadata": {
    "tags": []
   },
   "outputs": [],
   "source": [
    "phip_bssfp_pv_reco_combined_shift = phip_bssfp.shift_bssfp(input_data=phip_bssfp_pv_reco,\n",
    "                                 mat_bssfp=phip_bssfp_pv_reco.shape[2:4],\n",
    "                                 mat_anat=axial.seq2d.shape[1:3],\n",
    "                                 fov_bssfp=phip_bssfp.method['PVM_Fov'][1:3],\n",
    "                                 fov_anat=axial.method['PVM_Fov'],\n",
    "                                 apply_fft=False,use_scipy_shift=True) "
   ]
  },
  {
   "cell_type": "markdown",
   "id": "0916e64d-6537-47f6-8d9f-8c350e997694",
   "metadata": {},
   "source": [
    "#### Plot bSSFP data."
   ]
  },
  {
   "cell_type": "code",
   "execution_count": null,
   "id": "e1ad1565-d281-4fd0-98a8-6c76e813e6b4",
   "metadata": {
    "tags": []
   },
   "outputs": [],
   "source": [
    "# generate figure with 3 subplots. These have to be passed into the plot3D_new2 function\n",
    "fig, (ax1, ax2, ax3) = plt.subplots(1, 3, tight_layout=True,figsize=(12,5))\n",
    "\n",
    "# Call the plotting function\n",
    "dnp_bssfp.plot3D_new2(bssfp_data=dnp_bssfp_pv_reco_combined_shift, # complex bSSFP data\n",
    "                      coronal_image=coronal, # coronal mutlislice image object \n",
    "                      axial_image=axial,     # axial mutlislice image object\n",
    "                      axlist=[ax1, ax2, ax3], # pass axes that the function will plot o\n",
    "                      plot_params=None, # if you want to recreate plot, pass the json file name dnp_bssfp.load_plot_params(path_to_params=\"figures_shifted/fig_name.json\")\n",
    "                      fig=fig) # if you want a colorbar, this is necessary"
   ]
  },
  {
   "cell_type": "markdown",
   "id": "496c9b10-d92d-458d-9083-26a698314dd3",
   "metadata": {},
   "source": [
    "## Interpolation of bssfp to anatomical resolution\n",
    "To segment the datasets properly, they are interpolated to match the anatomical coronal resoltuion. To avoid interpolation artifacts, the interpolation method is set to \"nearest\" which means that no data is generated\n"
   ]
  },
  {
   "cell_type": "code",
   "execution_count": null,
   "id": "2561c32a",
   "metadata": {
    "tags": []
   },
   "outputs": [],
   "source": [
    "import time\n",
    "\n",
    "# Interpolate DNP Data\n",
    "start_time = time.time()\n",
    "\n",
    "dnp_bssfp_itp = dnp_bssfp.interpolate_bssfp(bssfp_data=dnp_bssfp_pv_reco_combined_shift,\n",
    "                            interp_size=(1,                              # echoes\n",
    "                                         round(coronal.seq2d.shape[0]), # anatomical \n",
    "                                         round(coronal.seq2d.shape[1]), # anatomical\n",
    "                                         coronal.seq2d.shape[2],        # slices \n",
    "                                         dnp_bssfp_pv_reco_combined_shift.shape[4],     # repetitions\n",
    "                                         1),                             # channels\n",
    "                            interp_method=\"nearest\",                     # interpolation method\n",
    "                            use_multiprocessing=True,                    # uses multiple cores\n",
    "                            number_of_cpu_cores=None)                    # if =None and use_multiprocessing=True, automatically calcuates the nuber of CPU cores\n",
    "\n",
    "print(\"--- %s seconds ---\" % (time.time() - start_time))\n",
    "\n",
    "# Interpolate PHIP Data\n",
    "start_time = time.time()\n",
    "\n",
    "phip_bssfp_itp = phip_bssfp.interpolate_bssfp(bssfp_data=phip_bssfp_pv_reco_combined_shift,\n",
    "                            interp_size=(1,\n",
    "                                         round(coronal.seq2d.shape[0]),\n",
    "                                         round(coronal.seq2d.shape[1]),\n",
    "                                         coronal.seq2d.shape[2],\n",
    "                                         phip_bssfp_pv_reco_combined_shift.shape[4],\n",
    "                                         1),\n",
    "                            interp_method=\"nearest\",\n",
    "                            use_multiprocessing=True)\n",
    "print(\"--- %s seconds ---\" % (time.time() - start_time))"
   ]
  },
  {
   "cell_type": "markdown",
   "id": "38fec2b4-4487-462c-8d2e-bbf70de65afb",
   "metadata": {},
   "source": [
    "## We make a list of anatomical images to be segmented \n",
    "Define the ROI names that will be segmented.\n"
   ]
  },
  {
   "cell_type": "code",
   "execution_count": null,
   "id": "f514a8a8-1d2e-4244-a6fa-0e7c7ef4d74d",
   "metadata": {
    "tags": []
   },
   "outputs": [],
   "source": [
    "roi_names = ['bloodvessel', 'kidneyL','kidneyR','heart', 'muscle','phantom','outside_ref']"
   ]
  },
  {
   "cell_type": "markdown",
   "id": "0ec9be63-c437-42c8-bfe8-29a380713616",
   "metadata": {},
   "source": [
    "#### Segment the interesting anatomical ROIs"
   ]
  },
  {
   "cell_type": "markdown",
   "id": "93b90e1d-15f7-47a9-90b6-b8080207d290",
   "metadata": {},
   "source": [
    "init list of segmenter objects"
   ]
  },
  {
   "cell_type": "code",
   "execution_count": null,
   "id": "4141d2c9-f219-4849-aade-48c941f5c859",
   "metadata": {
    "tags": []
   },
   "outputs": [],
   "source": [
    "plt.close('all')\n",
    "segmenter_list = ut_anat.get_segmenter_list_overlayed(coronal.seq2d,\n",
    "                                                      np.abs(dnp_bssfp_itp),\n",
    "                                                      n_rois=len(roi_names),\n",
    "                                                      figsize=(6,6),\n",
    "                                                      overlay=0.3,vmin=0,vmax=65,                                                    \n",
    "                                                      bssfp_cmap='magma')"
   ]
  },
  {
   "cell_type": "markdown",
   "id": "701e6e79-811c-4bfc-86fd-11ae4602e50c",
   "metadata": {},
   "source": [
    "Draw ROIs onto the coronal anatomical images. If you misdraw you can tick the Erasing box to remove your mistakes."
   ]
  },
  {
   "cell_type": "code",
   "execution_count": null,
   "id": "1f13dc63-fab9-4da9-85bb-9c211ac069f5",
   "metadata": {
    "tags": []
   },
   "outputs": [],
   "source": [
    "ut_anat.draw_masks_on_anatomical(segmenter_list,roi_names)"
   ]
  },
  {
   "cell_type": "markdown",
   "id": "3d6bf3a1-f19a-4a03-997d-4b961df09663",
   "metadata": {},
   "source": [
    "#### Retrieve mask"
   ]
  },
  {
   "cell_type": "code",
   "execution_count": null,
   "id": "4c4ebd82-f32d-4e45-bc92-46c39b74a4d1",
   "metadata": {
    "tags": []
   },
   "outputs": [],
   "source": [
    "mask_dict = ut_anat.get_masks(segmenter_list,roi_keys=roi_names,plot_res=False)"
   ]
  },
  {
   "cell_type": "markdown",
   "id": "00351912-999f-48ca-8dc8-770f3e602cf7",
   "metadata": {},
   "source": [
    "#### Get the signal from the ROIs:"
   ]
  },
  {
   "cell_type": "markdown",
   "id": "ec6a14cc-111f-4144-8c8e-c56188c4866c",
   "metadata": {},
   "source": [
    "###### Split data into pyruvate and lactate"
   ]
  },
  {
   "cell_type": "code",
   "execution_count": null,
   "id": "62e5575a-4583-4acc-8ca2-429671146431",
   "metadata": {
    "tags": []
   },
   "outputs": [],
   "source": [
    "dnp_bssfp_itp_pyr = dnp_bssfp_itp\n",
    "\n",
    "phip_bssfp_itp_pyr = phip_bssfp_itp"
   ]
  },
  {
   "cell_type": "markdown",
   "id": "3ce7ce79-b360-4e4d-a923-4185b050e047",
   "metadata": {},
   "source": [
    "# Mask the data first and then integrate"
   ]
  },
  {
   "cell_type": "code",
   "execution_count": null,
   "id": "276339b6-d32e-4812-9507-6610e97e3684",
   "metadata": {
    "tags": []
   },
   "outputs": [],
   "source": [
    "# init empty dictonaries\n",
    "dnp_signal_pyr = {}\n",
    "phip_signal_pyr = {}\n",
    "\n",
    "# calculate time curves of ROIs\n",
    "for k in mask_dict:\n",
    "    print(k)\n",
    "    dnp_signal_pyr[k] =  dnp_bssfp.roi_signal_curve(input_data=np.abs(dnp_bssfp_itp_pyr),\n",
    "                                                    mask_dict=mask_dict,\n",
    "                                                    mask_key=k)\n",
    "\n",
    "    \n",
    "    phip_signal_pyr[k] =  phip_bssfp.roi_signal_curve(input_data=np.abs(phip_bssfp_itp_pyr),\n",
    "                                                     mask_dict=mask_dict,\n",
    "                                                     mask_key=k)"
   ]
  },
  {
   "cell_type": "markdown",
   "id": "3c1ec5ff-4320-41ed-81f3-4b2540406416",
   "metadata": {},
   "source": [
    "##### DNP - Plot signal time curves from ROIs"
   ]
  },
  {
   "cell_type": "code",
   "execution_count": null,
   "id": "b03d7459-bd03-4d70-9ea3-8f0579f8dffc",
   "metadata": {
    "tags": []
   },
   "outputs": [],
   "source": [
    "# get time axis:\n",
    "plt.close('all')\n",
    "time_axis = dnp_bssfp.calc_timeaxis()\n",
    "# Define pyruvate index (0 if you started the acquisition on the pyruvate channel)\n",
    "pyr_ind = 0\n",
    "plt.close()\n",
    "plt.figure(figsize = (12,8),tight_layout=True)\n",
    "# loop through tickers and axes\n",
    "for n, k in enumerate(mask_dict.keys()):\n",
    "    # filter df for ticker and plot on specified axes\n",
    "    ax = plt.subplot(3, 4, n + 1)\n",
    "    # plot results:\n",
    "    ax.plot(time_axis,np.abs(dnp_signal_pyr[k]),label='Pyruvate')\n",
    "    # chart formatting\n",
    "    ax.set_xlabel(\"\")\n",
    "    ax.legend()\n",
    "    ax.set_title(k)    "
   ]
  },
  {
   "cell_type": "markdown",
   "id": "8a9fa5ca-98ac-4dbb-9f2f-a91262e75ee7",
   "metadata": {},
   "source": [
    "##### PHIP - Plot signal time curves from ROIs"
   ]
  },
  {
   "cell_type": "code",
   "execution_count": null,
   "id": "362c8a52-7814-48e9-ae5e-2f11d84614ec",
   "metadata": {
    "tags": []
   },
   "outputs": [],
   "source": [
    "# get time axis:\n",
    "time_axis = phip_bssfp.calc_timeaxis()\n",
    "# Define pyruvate index (0 if you started the acquisition on the pyruvate channel)\n",
    "pyr_ind = 0\n",
    "\n",
    "from scipy.signal import savgol_filter\n",
    "\n",
    "plt.figure(figsize = (12,8),tight_layout=True)\n",
    "# loop through tickers and axes\n",
    "for n, k in enumerate(mask_dict.keys()):\n",
    "\n",
    "    # filter df for ticker and plot on specified axes\n",
    "    ax = plt.subplot(3, 4, n + 1)\n",
    "    ax.plot(time_axis,np.abs(phip_signal_pyr[k]),label='Pyruvate')   \n",
    "    # chart formatting\n",
    "    ax.set_xlabel(\"\")\n",
    "    ax.legend()\n",
    "    ax.set_title(k)    "
   ]
  },
  {
   "cell_type": "markdown",
   "id": "c4ece629-a635-48b8-a9a7-b3c4de17cae5",
   "metadata": {},
   "source": [
    "# ----------------------------------------------------------------\n",
    "# SSI calculation\n",
    "# ----------------------------------------------------------------"
   ]
  },
  {
   "cell_type": "code",
   "execution_count": null,
   "id": "d8838d81-fb52-410f-b3c3-e1bed3036540",
   "metadata": {},
   "outputs": [],
   "source": [
    "# take a background by choosing some pixels that do not have signal\n",
    "fig, (ax1, ax2, ax3) = plt.subplots(1, 3, tight_layout=True,figsize=(12,5))\n",
    "\n",
    "# Call the plotting function\n",
    "dnp_bssfp.plot3D_new2(bssfp_data=dnp_bssfp_pv_reco_combined_shift, # complex bSSFP data\n",
    "                      coronal_image=coronal, # coronal mutlislice image object \n",
    "                      axial_image=axial,     # axial mutlislice image object\n",
    "                      axlist=[ax1, ax2, ax3], # pass axes that the function will plot o\n",
    "                      plot_params=None, # if you want to recreate plot, pass the json file name dnp_bssfp.load_plot_params(path_to_params=\"figures_shifted/fig_name.json\")\n",
    "                      fig=fig) # if you want a colorbar, this is necessary"
   ]
  },
  {
   "cell_type": "markdown",
   "id": "932461fc-0faf-4ac0-bae6-e04fb0feca3f",
   "metadata": {},
   "source": [
    "# Calculate a Structural Similarity Index between PHIP / DNP curves"
   ]
  },
  {
   "cell_type": "code",
   "execution_count": null,
   "id": "c8de3324-c770-4746-94db-8fb0a4784701",
   "metadata": {
    "tags": []
   },
   "outputs": [],
   "source": [
    "from skimage.metrics import structural_similarity as ssim\n",
    "from skimage.metrics import mean_squared_error\n",
    "from skimage import data, img_as_float\n",
    "from matplotlib.patches import Rectangle\n",
    "from hypermri.utils.utils_bssfp_analysis import *\n"
   ]
  },
  {
   "cell_type": "markdown",
   "id": "b569ec16-59ea-456c-9182-11fac8171380",
   "metadata": {},
   "source": [
    "# We will calculate the SSI for the sum of the range where we have signal for PHIP and DNP independently\n"
   ]
  },
  {
   "cell_type": "markdown",
   "id": "e234c33a-2cfe-4718-8c04-9e2ac61099ed",
   "metadata": {},
   "source": [
    "# 1. Find the range where we have signal\n",
    "* For rats this is plus minus 10 repetitions around the peak\n",
    "* For mice this is minus 2 and plus 18 repetitions around the peak since there the influx of signal is much faster"
   ]
  },
  {
   "cell_type": "code",
   "execution_count": null,
   "id": "5e541960-72db-4978-ad67-27475ff96bc1",
   "metadata": {
    "tags": []
   },
   "outputs": [],
   "source": [
    "plt.close('all')\n",
    "signal_range_dict = {'phip':[8,36],'dnp':[11,30]}\n",
    "fig, (ax1, ax2, ax3) = plt.subplots(1, 3,tight_layout=True, figsize=(10,4))\n",
    "dnp_bssfp.find_sig_range_reps(dnp_bssfp_pv_reco_combined_shift,\n",
    "                    phip_bssfp_pv_reco_combined_shift,\n",
    "                    signal_range_dict,\n",
    "                    axlist = [ax1,ax2,ax3],                    \n",
    "                   )\n"
   ]
  },
  {
   "cell_type": "code",
   "execution_count": null,
   "id": "5a7cad2f-b6ee-4c73-b0d5-7ce474021368",
   "metadata": {
    "tags": []
   },
   "outputs": [],
   "source": [
    "ssi_dnp_sig_range_reps,ssi_phip_sig_range_reps = apply_sig_range(dnp_bssfp_pv_reco_combined_shift,\n",
    "                                                                 phip_bssfp_pv_reco_combined_shift,\n",
    "                                                                 dnp_bssfp.signal_range_dict)"
   ]
  },
  {
   "cell_type": "markdown",
   "id": "8f8549df-ede1-4e2a-84a3-b2034325e187",
   "metadata": {},
   "source": [
    "# Use data that was only summed over the reps where we have sufficient signal "
   ]
  },
  {
   "cell_type": "code",
   "execution_count": null,
   "id": "0d44c1a3-dafc-486f-9ffa-5005d757351f",
   "metadata": {
    "tags": []
   },
   "outputs": [],
   "source": [
    "dnp_data = ssi_dnp_sig_range_reps\n",
    "phip_data = ssi_phip_sig_range_reps"
   ]
  },
  {
   "cell_type": "markdown",
   "id": "e2ed46b4-9ce6-440d-8686-33b9eaec06e0",
   "metadata": {},
   "source": [
    "### Choose a background region thats suitable"
   ]
  },
  {
   "cell_type": "code",
   "execution_count": null,
   "id": "f223f39b-c943-49ab-9047-38ce0c8dad9e",
   "metadata": {
    "tags": []
   },
   "outputs": [],
   "source": [
    "fig,ax=plt.subplots(1,3,figsize=(12,5),tight_layout=True)\n",
    "dnp_bssfp.norm_bssfp_to_background_and_divide_by_mean_for_SSI(dnp_data,coronal,0,axlist=ax,bg_pixels_y=[17,26])"
   ]
  },
  {
   "cell_type": "markdown",
   "id": "b15d5619-0ef8-43f5-b6c0-b8f421aea977",
   "metadata": {},
   "source": [
    "### We can access the calculated background value as follows"
   ]
  },
  {
   "cell_type": "code",
   "execution_count": null,
   "id": "ffe1ab7e-58b2-4185-b014-4b28076b9746",
   "metadata": {
    "tags": []
   },
   "outputs": [],
   "source": [
    "dnp_bg = dnp_bssfp.ssi_background_value\n",
    "dnp_std = dnp_bssfp.ssi_background_std"
   ]
  },
  {
   "cell_type": "markdown",
   "id": "8d04cd3c-d7a3-4a0c-9cb4-71dc96d96901",
   "metadata": {},
   "source": [
    "### Repeat for PHIP"
   ]
  },
  {
   "cell_type": "code",
   "execution_count": null,
   "id": "06499085-dc32-46a4-8d52-91cf7c3572ee",
   "metadata": {
    "tags": []
   },
   "outputs": [],
   "source": [
    "fig,ax=plt.subplots(1,3,figsize=(12,5),tight_layout=True)\n",
    "phip_bssfp.norm_bssfp_to_background_and_divide_by_mean_for_SSI(phip_data,coronal,0,axlist=ax,bg_pixels_y=[17,26])\n"
   ]
  },
  {
   "cell_type": "markdown",
   "id": "a99d7a59-3881-4c07-b2ed-512c40dd8c89",
   "metadata": {},
   "source": [
    "### We can access the calculated background value as follows"
   ]
  },
  {
   "cell_type": "code",
   "execution_count": null,
   "id": "cbf310f2-c4c8-4edb-93d9-08122f36647c",
   "metadata": {
    "tags": []
   },
   "outputs": [],
   "source": [
    "phip_bg = phip_bssfp.ssi_background_value"
   ]
  },
  {
   "cell_type": "markdown",
   "id": "26c6aaa1-472d-4433-b372-01cc0d943138",
   "metadata": {},
   "source": [
    "### Subtract that background"
   ]
  },
  {
   "cell_type": "code",
   "execution_count": null,
   "id": "aec4b110-93d9-4b85-993b-8046e8083f2e",
   "metadata": {
    "tags": []
   },
   "outputs": [],
   "source": [
    "phip_images_min_bg = np.abs(phip_data-phip_bg)\n",
    "dnp_images_min_bg = np.abs(dnp_data-dnp_bg)"
   ]
  },
  {
   "cell_type": "markdown",
   "id": "ee092e57-a16b-46a1-8545-16999c74aa8c",
   "metadata": {},
   "source": [
    "### Now for each slice divide by the mean of the slice and then calculate the SSI"
   ]
  },
  {
   "cell_type": "code",
   "execution_count": null,
   "id": "f6dc3de7-d083-4f32-8029-4b9440eddbbd",
   "metadata": {
    "tags": []
   },
   "outputs": [],
   "source": [
    "structural_sim_indices,mean_squared_errors,snr_per_slice_dnp,snr_per_slice_phip = calculate_ssi(dnp_images_min_bg,dnp_bssfp,phip_images_min_bg,phip_bssfp)"
   ]
  },
  {
   "cell_type": "markdown",
   "id": "c0d9f416-5e9f-4172-9da3-188f5c13b1cc",
   "metadata": {},
   "source": [
    "# Chooose slices that have enough signal and take the SSI from these"
   ]
  },
  {
   "cell_type": "code",
   "execution_count": null,
   "id": "250fee2d-b22e-4efc-a765-32fd149f23dc",
   "metadata": {
    "tags": []
   },
   "outputs": [],
   "source": [
    "plt.close('all')\n",
    "fig,(ax1,ax2,ax3)=plt.subplots(1,3,figsize=(9,3),tight_layout=True)\n",
    "\n",
    "dnp_bssfp.find_high_snr_slices(dnp_images_min_bg,snr_per_slice_dnp,axlist = [ax1,ax2,ax3],\n",
    "                               slice_default_indices_cor=[3,10],\n",
    "                              slice_default_indices_ax=[6,11],\n",
    "                              slice_default_indices_sag=[6,10])"
   ]
  },
  {
   "cell_type": "markdown",
   "id": "41543bf9-2109-4c3b-ae2f-4d2741d9fa54",
   "metadata": {},
   "source": [
    "# Look at same for PHIP, but we should only take slices that have enough signal in both measurements, so the values need to be the same"
   ]
  },
  {
   "cell_type": "code",
   "execution_count": null,
   "id": "dc18eeaa-2c6b-4be0-ad47-225452183176",
   "metadata": {
    "tags": []
   },
   "outputs": [],
   "source": [
    "plt.close('all')\n",
    "fig,(ax1,ax2,ax3)=plt.subplots(1,3,figsize=(9,3),tight_layout=True)\n",
    "\n",
    "phip_bssfp.find_high_snr_slices(phip_images_min_bg,snr_per_slice_phip,axlist = [ax1,ax2,ax3],\n",
    "                               slice_default_indices_cor=[3,10],\n",
    "                              slice_default_indices_ax=[6,11],\n",
    "                              slice_default_indices_sag=[6,10])"
   ]
  },
  {
   "cell_type": "markdown",
   "id": "93525a0b-18e5-4152-aec7-00ad7e7f51af",
   "metadata": {},
   "source": [
    "# Seems okay, lets just check if we select the same slices for PHIP and DNP "
   ]
  },
  {
   "cell_type": "code",
   "execution_count": null,
   "id": "bf5460df-95e4-4e8b-a121-49d32e858370",
   "metadata": {
    "tags": []
   },
   "outputs": [],
   "source": [
    "if dnp_bssfp.slice_signal_axial == phip_bssfp.slice_signal_axial:\n",
    "    print('Selected same axial slices, all GOOD')\n",
    "else:\n",
    "    print('Caution, axial slices not the same for PHIP/DNP')\n",
    "if dnp_bssfp.slice_signal_coronal == phip_bssfp.slice_signal_coronal:\n",
    "    print('Selected same coronal slices, all GOOD')\n",
    "else:\n",
    "    print('Caution, coronal slices not the same for PHIP/DNP')\n",
    "if dnp_bssfp.slice_signal_sagittal == phip_bssfp.slice_signal_sagittal:\n",
    "    print('Selected same sagittal slices, all GOOD')\n",
    "else:\n",
    "    print('Caution, sagittal slices not the same for PHIP/DNP')"
   ]
  },
  {
   "cell_type": "markdown",
   "id": "2c4f9f20-c813-416b-a3ef-a3dce03a63f7",
   "metadata": {},
   "source": [
    "# Lets take the SSI from these slices and mean it"
   ]
  },
  {
   "cell_type": "code",
   "execution_count": null,
   "id": "1c1bcb6f-2cd6-464e-a8a8-40ce0547e562",
   "metadata": {
    "tags": []
   },
   "outputs": [],
   "source": [
    "ssi_dict_lenghts = len(structural_sim_indices['coronal']),len(structural_sim_indices['axial']),len(structural_sim_indices['sagittal'])\n",
    "max_len = np.max(ssi_dict_lenghts)\n",
    "slices = range(max_len)\n",
    "\n",
    "data = np.array([np.pad(structural_sim_indices['coronal'],(0,max_len-len(structural_sim_indices['coronal'])),mode='constant',constant_values = np.nan),\n",
    "       np.pad(structural_sim_indices['axial'],(0,max_len-len(structural_sim_indices['axial'])),mode='constant',constant_values = np.nan),\n",
    "       np.pad(structural_sim_indices['sagittal'],(0,max_len-len(structural_sim_indices['sagittal'])),mode='constant',constant_values = np.nan)]).T\n",
    "ssi_all_value_df = pd.DataFrame(data, columns = [\"coronal\",\"axial\",\"sagittal\"] ,index=slices)\n",
    "ssi_all_value_df"
   ]
  },
  {
   "cell_type": "code",
   "execution_count": null,
   "id": "1b76891f-a2b8-4b60-b34d-92d2c51c12af",
   "metadata": {
    "tags": []
   },
   "outputs": [],
   "source": [
    "ssi_slices_with_signal_reps_with_signal = ssi_all_value_df\n",
    "\n",
    "ssi_slices_with_signal_reps_with_signal[\"coronal\"]=ssi_slices_with_signal_reps_with_signal[\"coronal\"][dnp_bssfp.slice_signal_coronal[0]:dnp_bssfp.slice_signal_coronal[1]+1]\n",
    "\n",
    "ssi_slices_with_signal_reps_with_signal[\"axial\"]=ssi_slices_with_signal_reps_with_signal[\"axial\"][dnp_bssfp.slice_signal_axial[0]:dnp_bssfp.slice_signal_axial[1]+1]\n",
    "\n",
    "ssi_slices_with_signal_reps_with_signal[\"sagittal\"]=ssi_slices_with_signal_reps_with_signal[\"sagittal\"][dnp_bssfp.slice_signal_sagittal[0]:dnp_bssfp.slice_signal_sagittal[1]+1]\n",
    "\n",
    "ssi_slices_with_signal_reps_with_signal_output_df = pd.DataFrame(data = None ,columns = [\"axial mean\", \"axial std\",\n",
    "                                                                                   \"coronal mean\", \"coronal std\",\n",
    "                                                                                   \"sagittal mean\", \"sagittal std\",\n",
    "                                                                                         \"SSI mean\", \"SSI std\"\n",
    "                                                                                  ],index = ['SSI'])\n",
    "ssi_slices_with_signal_reps_with_signal_output_df[\"coronal mean\"] = ssi_slices_with_signal_reps_with_signal.mean(axis=0)[0]\n",
    "ssi_slices_with_signal_reps_with_signal_output_df[\"axial mean\"] = ssi_slices_with_signal_reps_with_signal.mean(axis=0)[1]\n",
    "ssi_slices_with_signal_reps_with_signal_output_df[\"sagittal mean\"] = ssi_slices_with_signal_reps_with_signal.mean(axis=0)[2]\n",
    "\n",
    "ssi_slices_with_signal_reps_with_signal_output_df[\"coronal std\"]= ssi_slices_with_signal_reps_with_signal.std(axis=0)[0]\n",
    "ssi_slices_with_signal_reps_with_signal_output_df[\"axial std\"]= ssi_slices_with_signal_reps_with_signal.std(axis=0)[1]\n",
    "ssi_slices_with_signal_reps_with_signal_output_df[\"sagittal std\"]= ssi_slices_with_signal_reps_with_signal.std(axis=0)[2]\n",
    "\n",
    "ssi_slices_with_signal_reps_with_signal_output_df[\"SSI mean\"]= np.mean([ssi_slices_with_signal_reps_with_signal_output_df[\"coronal mean\"],\n",
    "                                                                       ssi_slices_with_signal_reps_with_signal_output_df[\"axial mean\"],\n",
    "                                                                       ssi_slices_with_signal_reps_with_signal_output_df[\"sagittal mean\"]])\n",
    "\n",
    "ssi_slices_with_signal_reps_with_signal_output_df[\"SSI std\"]= np.mean([ssi_slices_with_signal_reps_with_signal_output_df[\"coronal std\"],\n",
    "                                                                       ssi_slices_with_signal_reps_with_signal_output_df[\"axial std\"],\n",
    "                                                                       ssi_slices_with_signal_reps_with_signal_output_df[\"sagittal std\"]])\n",
    "\n",
    "ssi_slices_with_signal_reps_with_signal_output_df"
   ]
  },
  {
   "cell_type": "markdown",
   "id": "e9a8b04a-056f-4449-8e2b-b452782ad88a",
   "metadata": {},
   "source": [
    "# SSI mean and SSI std are the values used"
   ]
  }
 ],
 "metadata": {
  "kernelspec": {
   "display_name": "Python 3 (ipykernel)",
   "language": "python",
   "name": "python3"
  },
  "language_info": {
   "codemirror_mode": {
    "name": "ipython",
    "version": 3
   },
   "file_extension": ".py",
   "mimetype": "text/x-python",
   "name": "python",
   "nbconvert_exporter": "python",
   "pygments_lexer": "ipython3",
   "version": "3.10.10"
  }
 },
 "nbformat": 4,
 "nbformat_minor": 5
}
