{
 "cells": [
  {
   "cell_type": "code",
   "execution_count": null,
   "id": "579139b0-033a-4d37-91b6-4d864b34147c",
   "metadata": {
    "tags": []
   },
   "outputs": [],
   "source": [
    "%matplotlib widget\n",
    "\n",
    "import hypermri\n",
    "\n",
    "import sys\n",
    "\n",
    "import MagriProc as mp\n",
    "\n",
    "%load_ext autoreload\n",
    "%autoreload 2"
   ]
  },
  {
   "cell_type": "markdown",
   "id": "ba50d59c-a3c4-4892-89cf-360fff8e0919",
   "metadata": {},
   "source": [
    "# 1T Tabletop Magritek measurements"
   ]
  },
  {
   "cell_type": "markdown",
   "id": "7a0ba341-d721-4f95-9455-29a2ab522312",
   "metadata": {},
   "source": [
    "### First we load the 40 low flipangle measurements for the hyper measurement and 75 repetitions with 90° flipangle for the thermal reference"
   ]
  },
  {
   "cell_type": "code",
   "execution_count": null,
   "id": "29ce252e-e998-446c-8c23-db190f672054",
   "metadata": {
    "tags": []
   },
   "outputs": [],
   "source": [
    "HYPER = mp.MagriExps('Test_Data/Polarization_level_test_data/hyper/',range(1,41))\n",
    "THERMAL = mp.MagriExps('Test_Data/Polarization_level_test_data/thermal/',range(1,76))"
   ]
  },
  {
   "cell_type": "markdown",
   "id": "5a4a89f9-5371-488b-81c7-45673aa064d5",
   "metadata": {},
   "source": [
    "### Perform baseline and phase correction manually"
   ]
  },
  {
   "cell_type": "code",
   "execution_count": null,
   "id": "2181829e-22eb-41b7-929f-0cc3e12f66fa",
   "metadata": {
    "tags": []
   },
   "outputs": [],
   "source": [
    "#HYPER.phase_real_spectrum(False)\n",
    "phase_hyper = 61.5\n",
    "\n",
    "#THERMAL.phase_real_spectrum(True)\n",
    "phase_thermal = 63.9"
   ]
  },
  {
   "cell_type": "markdown",
   "id": "e9a3a885-d382-4842-9f17-43ea0a005e83",
   "metadata": {},
   "source": [
    "### Determine the polarization level at the time of the first spectrum and at time of dissolution (t=-TIMEPOINT [s])"
   ]
  },
  {
   "cell_type": "code",
   "execution_count": null,
   "id": "45c5fca7-dfb4-4bc7-b73c-8df8eb870009",
   "metadata": {
    "tags": []
   },
   "outputs": [],
   "source": [
    "TIMEPOINT=28.9\n",
    "\n",
    "Result = mp.calculate_polarization_level(THERMAL,HYPER,TIMEPOINT,bg_region_thermal=[250,400],\n",
    "bg_region_hyper=[250,300],linebroadening=0,integration_width_thermal=5,integration_width_hyper=5,plot=True,print_output=True,\n",
    "                                                              hyper_phase_input=phase_hyper,thermal_phase_input=phase_thermal)\n",
    "\n",
    "print(Result)"
   ]
  }
 ],
 "metadata": {
  "kernelspec": {
   "display_name": "Python 3 (ipykernel)",
   "language": "python",
   "name": "python3"
  },
  "language_info": {
   "codemirror_mode": {
    "name": "ipython",
    "version": 3
   },
   "file_extension": ".py",
   "mimetype": "text/x-python",
   "name": "python",
   "nbconvert_exporter": "python",
   "pygments_lexer": "ipython3",
   "version": "3.10.10"
  }
 },
 "nbformat": 4,
 "nbformat_minor": 5
}
