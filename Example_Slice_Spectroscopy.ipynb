{
 "cells": [
  {
   "cell_type": "code",
   "execution_count": null,
   "id": "a79c5784-b20f-4348-947b-b7d2011b02dc",
   "metadata": {},
   "outputs": [],
   "source": [
    "import hypermri\n",
    "from hypermri.utils.utils_spectroscopy import lorentzian\n",
    "from hypermri.utils.utils_spectroscopy import fit_spectrum\n",
    "from hypermri.utils.utils_spectroscopy import integrate_fitted_spectrum\n",
    "from hypermri.utils.utils_spectroscopy import calculate_pyruvate_to_lactate_auc\n",
    "\n",
    "import sys\n",
    "import os\n",
    "import seaborn as sns\n",
    "import pandas as pd\n",
    "import matplotlib.pyplot as plt\n",
    "import ipywidgets as widgets\n",
    "import numpy as np\n",
    "\n",
    "from scipy.optimize import curve_fit \n",
    "\n",
    "\n",
    "import MagriProc as mp\n",
    "\n",
    "%load_ext autoreload\n",
    "%autoreload 2\n",
    "\n",
    "%matplotlib widget\n"
   ]
  },
  {
   "cell_type": "code",
   "execution_count": null,
   "id": "6b0eba71-5647-4df9-97b3-4c294f9b1087",
   "metadata": {},
   "outputs": [],
   "source": [
    "data = hypermri.BrukerDir('Test_Data/slicespec_test_data/')"
   ]
  },
  {
   "cell_type": "code",
   "execution_count": null,
   "id": "1e895659-63ca-47a8-9f6a-86fb2c06fcb7",
   "metadata": {},
   "outputs": [],
   "source": [
    "dnp_nspect = data[45]\n",
    "phip_nspect = data[34]\n",
    "coronal = data[42]"
   ]
  },
  {
   "cell_type": "code",
   "execution_count": null,
   "id": "4aeba8f3-aaeb-4a7c-abe5-61325f9034cd",
   "metadata": {},
   "outputs": [],
   "source": [
    "peak_positions = [183.3,171.2]\n",
    "# loading phip_1 spectra\n",
    "ppm_axis_phip,spec_phased_phip,spec_ch1_phip,spec_ch2_phip = phip_nspect.get_spec_non_localized_spectroscopy_dual_channel(5,70)\n",
    "# loading phip_2 spectra\n",
    "ppm_axis_dnp,spec_phased_dnp,spec_ch1_dnp,spec_ch2_dnp = dnp_nspect.get_spec_non_localized_spectroscopy_dual_channel(5,70)\n"
   ]
  },
  {
   "cell_type": "markdown",
   "id": "8f697713-ef31-4fe9-a304-d1f1eed3a907",
   "metadata": {},
   "source": [
    "# PHIP"
   ]
  },
  {
   "cell_type": "markdown",
   "id": "947ae20d-7067-4746-86a2-ad1fadbd70a1",
   "metadata": {},
   "source": [
    "# channel 1"
   ]
  },
  {
   "cell_type": "code",
   "execution_count": null,
   "id": "efafcb57-c237-4717-95d1-d7e4b484dd94",
   "metadata": {},
   "outputs": [],
   "source": [
    "peak_coeff_phip_ch1,peak_errors_phip_ch1 = fit_spectrum(ppm_axis_phip,spec_ch1_phip,peak_positions,plot=True,SNR_cutoff=2,bg_region_first_spec=[1200,1800],norm_to_snr_before_fit=True)\n",
    "peak_integrals_phip_ch1 = integrate_fitted_spectrum(phip_nspect,ppm_axis_phip,spec_ch1_phip,peak_positions,peak_coeff_phip_ch1,True,'Test',None)\n",
    "pyr_lac_phip_ch1 = calculate_pyruvate_to_lactate_auc(peak_integrals_phip_ch1[:,0],peak_integrals_phip_ch1[:,1])"
   ]
  },
  {
   "cell_type": "markdown",
   "id": "dfb68133-da98-4df6-8123-636e9d188f3c",
   "metadata": {},
   "source": [
    "# channel 2"
   ]
  },
  {
   "cell_type": "code",
   "execution_count": null,
   "id": "cf27b28f-a00d-4caf-b582-dbb1fbf0100a",
   "metadata": {},
   "outputs": [],
   "source": [
    "peak_coeff_phip_ch2,peak_errors_phip_ch2 = fit_spectrum(ppm_axis_phip,spec_ch2_phip,peak_positions,plot=True,SNR_cutoff=2,bg_region_first_spec=[1200,1800],norm_to_snr_before_fit=True)\n",
    "peak_integrals_phip_ch2 = integrate_fitted_spectrum(phip_nspect,ppm_axis_phip,spec_ch2_phip,peak_positions,peak_coeff_phip_ch2,True,'Test',None)\n",
    "pyr_lac_phip_ch2 = calculate_pyruvate_to_lactate_auc(peak_integrals_phip_ch2[:,0],peak_integrals_phip_ch2[:,1])"
   ]
  },
  {
   "cell_type": "markdown",
   "id": "11a6a851-2e14-4a9e-a645-dbea63a263c3",
   "metadata": {},
   "source": [
    "# DNP"
   ]
  },
  {
   "cell_type": "markdown",
   "id": "ed5e1436-e323-4023-ad40-e324be3c93fe",
   "metadata": {},
   "source": [
    "# channel 1"
   ]
  },
  {
   "cell_type": "code",
   "execution_count": null,
   "id": "e6db85f0-b058-4ca2-8ce3-46379581eff4",
   "metadata": {},
   "outputs": [],
   "source": [
    "plt.close('all')\n",
    "peak_coeff_dnp_ch1,peak_errors_dnp_ch1 = fit_spectrum(ppm_axis_dnp,spec_ch1_dnp,peak_positions,plot=True,SNR_cutoff=2,bg_region_first_spec=[1200,1800],norm_to_snr_before_fit=True)\n",
    "peak_integrals_dnp_ch1 = integrate_fitted_spectrum(dnp_nspect,ppm_axis_dnp,spec_ch1_dnp,peak_positions,peak_coeff_dnp_ch1,True,'Test',None)\n",
    "pyr_lac_dnp_ch1 = calculate_pyruvate_to_lactate_auc(peak_integrals_dnp_ch1[:,0],peak_integrals_dnp_ch1[:,1])"
   ]
  },
  {
   "cell_type": "markdown",
   "id": "b076bec0-a7a1-4f01-b6dd-7b2f62806cfc",
   "metadata": {},
   "source": [
    "# channel 2"
   ]
  },
  {
   "cell_type": "code",
   "execution_count": null,
   "id": "37172742-68b8-462c-868e-254f759d79d9",
   "metadata": {},
   "outputs": [],
   "source": [
    "peak_coeff_dnp_ch2,peak_errors_dnp_ch2 = fit_spectrum(ppm_axis_dnp,spec_ch2_dnp,peak_positions,plot=True,SNR_cutoff=2,bg_region_first_spec=[1200,1800],norm_to_snr_before_fit=True)\n",
    "peak_integrals_dnp_ch2 = integrate_fitted_spectrum(dnp_nspect,ppm_axis_dnp,spec_ch2_dnp,peak_positions,peak_coeff_dnp_ch2,True,'Test',None)\n",
    "pyr_lac_dnp_ch2 = calculate_pyruvate_to_lactate_auc(peak_integrals_dnp_ch2[:,0],peak_integrals_dnp_ch2[:,1])"
   ]
  },
  {
   "cell_type": "markdown",
   "id": "c7de4f45-9457-4cc2-931a-d36caae559dd",
   "metadata": {},
   "source": [
    "# Comparing the metabolite timecurves for both channels for PHIP and DNP"
   ]
  },
  {
   "cell_type": "code",
   "execution_count": null,
   "id": "8ee8278e-a05b-4b69-9b55-1712e2892c35",
   "metadata": {},
   "outputs": [],
   "source": [
    "fig,ax=plt.subplots(1,2,figsize=(12,5))\n",
    "NR = dnp_nspect.method['PVM_NRepetitions']\n",
    "TR = dnp_nspect.method['PVM_RepetitionTime']\n",
    "           \n",
    "                       \n",
    "time_scale = np.arange(0,TR*NR,TR)/1000\n",
    "ax[0].plot(time_scale,peak_integrals_phip_ch1[:,1],label='PHIP-Pyruvate',color='C0')\n",
    "ax[0].plot(time_scale,peak_integrals_dnp_ch1[:,1],label='DNP-Pyruvate',color='C2')\n",
    "ax[0].plot(time_scale,peak_integrals_phip_ch1[:,0],label='PHIP-Lactate',color='C1')\n",
    "ax[0].plot(time_scale,peak_integrals_dnp_ch1[:,0],label='DNP-Lactate',color='C3')\n",
    "ax[0].set_xlabel('Time [s] ')\n",
    "ax[0].set_ylabel('I [a.u.]')            \n",
    "ax[0].legend()\n",
    "ax[0].set_title('Channel 1')\n",
    "\n",
    "\n",
    "ax[1].plot(time_scale,peak_integrals_phip_ch2[:,1],label='PHIP-Pyruvate',color='C0')\n",
    "ax[1].plot(time_scale,peak_integrals_dnp_ch2[:,1],label='DNP-Pyruvate',color='C2')\n",
    "ax[1].plot(time_scale,peak_integrals_phip_ch2[:,0],label='PHIP-Lactate',color='C1')\n",
    "ax[1].plot(time_scale,peak_integrals_dnp_ch2[:,0],label='DNP-Lactate',color='C3')\n",
    "ax[1].set_xlabel('Time [s] ')\n",
    "ax[1].set_ylabel('I [a.u.]')            \n",
    "ax[1].legend()\n",
    "ax[1].set_title('Channel 2')\n",
    "\n",
    "\n"
   ]
  },
  {
   "cell_type": "code",
   "execution_count": null,
   "id": "5df9b947-cb12-4f3c-8396-e318c6c749b7",
   "metadata": {},
   "outputs": [],
   "source": []
  },
  {
   "cell_type": "code",
   "execution_count": null,
   "id": "78b97e33-2543-44d8-9359-401616759768",
   "metadata": {},
   "outputs": [],
   "source": []
  }
 ],
 "metadata": {
  "kernelspec": {
   "display_name": "Python 3 (ipykernel)",
   "language": "python",
   "name": "python3"
  },
  "language_info": {
   "codemirror_mode": {
    "name": "ipython",
    "version": 3
   },
   "file_extension": ".py",
   "mimetype": "text/x-python",
   "name": "python",
   "nbconvert_exporter": "python",
   "pygments_lexer": "ipython3",
   "version": "3.10.10"
  }
 },
 "nbformat": 4,
 "nbformat_minor": 5
}
