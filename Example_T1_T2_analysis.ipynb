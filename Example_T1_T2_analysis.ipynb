{
 "cells": [
  {
   "cell_type": "code",
   "execution_count": null,
   "id": "6eba9972-002c-4718-a9a9-f9003390d1d8",
   "metadata": {
    "tags": []
   },
   "outputs": [],
   "source": [
    "import hypermri\n",
    "import sys\n",
    "import os\n",
    "import matplotlib.pyplot as plt\n",
    "import ipywidgets as widgets\n",
    "import numpy as np\n",
    "\n",
    "import MagriProc as mp\n",
    "# Autoreload extension so that you dont have to reload the kernel every time something is changed in the hypermri or magritek folders\n",
    "%load_ext autoreload\n",
    "%autoreload 2\n",
    "\n",
    "%matplotlib widget"
   ]
  },
  {
   "cell_type": "markdown",
   "id": "e6e3fe52-4292-4df0-be25-9675b718f5fe",
   "metadata": {},
   "source": [
    "# Examplary Dataset"
   ]
  },
  {
   "cell_type": "code",
   "execution_count": null,
   "id": "730219ef-e3ac-4eac-b576-d0d6a940a11e",
   "metadata": {
    "tags": []
   },
   "outputs": [],
   "source": [
    "#Bruker data\n",
    "SCANS_7T=hypermri.BrukerDir('Test_Data/T1_T2_7T_test_data/')\n",
    "# Magritek data\n",
    "SCANS_1T = 'Test_Data/T1_1T_test_data/'\n",
    "# selecting the used scans\n",
    "T1_7T = SCANS_7T[8]\n",
    "T2_7T = SCANS_7T[2]\n",
    "T1_1T = mp.MagriExps(SCANS_1T,range(1,41))"
   ]
  },
  {
   "cell_type": "code",
   "execution_count": null,
   "id": "b9e20af4-62a7-4d93-bf26-a8834dce1e14",
   "metadata": {
    "tags": []
   },
   "outputs": [],
   "source": [
    "# T1 at 1T Magritek measurement\n",
    "mp.Fit_T1(T1_1T,None,sample_name='1',integration_width=5,plot=True)\n",
    "# T1 and T2 at 7T\n",
    "T1_7T.calculate_T1(0,40,'1',integration_width=5)\n",
    "T2_7T.calculate_T2_hyper('1',starting_index=50)"
   ]
  },
  {
   "cell_type": "code",
   "execution_count": null,
   "id": "e68b33f9-586d-44e1-b8f5-a604e904f19c",
   "metadata": {},
   "outputs": [],
   "source": []
  }
 ],
 "metadata": {
  "kernelspec": {
   "display_name": "Python 3 (ipykernel)",
   "language": "python",
   "name": "python3"
  },
  "language_info": {
   "codemirror_mode": {
    "name": "ipython",
    "version": 3
   },
   "file_extension": ".py",
   "mimetype": "text/x-python",
   "name": "python",
   "nbconvert_exporter": "python",
   "pygments_lexer": "ipython3",
   "version": "3.10.10"
  }
 },
 "nbformat": 4,
 "nbformat_minor": 5
}
